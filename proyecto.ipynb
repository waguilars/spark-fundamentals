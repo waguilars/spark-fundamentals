{
 "cells": [
  {
   "cell_type": "code",
   "execution_count": 35,
   "source": [
    "from pyspark import SparkContext\n",
    "from pyspark.sql import SQLContext\n",
    "from pyspark.sql.functions import col"
   ],
   "outputs": [],
   "metadata": {}
  },
  {
   "cell_type": "code",
   "execution_count": 6,
   "source": [
    "spark = SparkContext(master=\"local\", appName=\"proyecto-spark\")\n",
    "sql_context = SQLContext(spark)"
   ],
   "outputs": [
    {
     "output_type": "stream",
     "name": "stderr",
     "text": [
      "21/08/09 12:03:40 WARN Utils: Service 'SparkUI' could not bind on port 4040. Attempting port 4041.\n"
     ]
    }
   ],
   "metadata": {}
  },
  {
   "cell_type": "code",
   "execution_count": 12,
   "source": [
    "deporte = sql_context.read.csv(\"files/deporte.csv\", inferSchema=True, header=True)\n",
    "deporte.show(4)"
   ],
   "outputs": [
    {
     "output_type": "stream",
     "name": "stdout",
     "text": [
      "+----------+----------+\n",
      "|deporte_id|   deporte|\n",
      "+----------+----------+\n",
      "|         1|Basketball|\n",
      "|         2|      Judo|\n",
      "|         3|  Football|\n",
      "|         4|Tug-Of-War|\n",
      "+----------+----------+\n",
      "only showing top 4 rows\n",
      "\n"
     ]
    }
   ],
   "metadata": {}
  },
  {
   "cell_type": "code",
   "execution_count": 20,
   "source": [
    "deportista = sql_context.read.csv(\"files/deportista.csv\", inferSchema=True, header=True).union(\n",
    "  sql_context.read.csv(\"files/deportista.csv\")\n",
    ")\n",
    "deportista.show(4)"
   ],
   "outputs": [
    {
     "output_type": "stream",
     "name": "stdout",
     "text": [
      "+-------------+--------------------+------+----+------+----+---------+\n",
      "|deportista_id|              nombre|genero|edad|altura|peso|equipo_id|\n",
      "+-------------+--------------------+------+----+------+----+---------+\n",
      "|            1|           A Dijiang|     1|  24|   180|80.0|      199|\n",
      "|            2|            A Lamusi|     1|  23|   170|60.0|      199|\n",
      "|            3| Gunnar Nielsen Aaby|     1|  24|     0| 0.0|      273|\n",
      "|            4|Edgar Lindenau Aabye|     1|  34|     0| 0.0|      278|\n",
      "+-------------+--------------------+------+----+------+----+---------+\n",
      "only showing top 4 rows\n",
      "\n"
     ]
    }
   ],
   "metadata": {}
  },
  {
   "cell_type": "code",
   "execution_count": 22,
   "source": [
    "deportista_error = sql_context.read.csv(\"files/deportistaError.csv\", inferSchema=True, header=True)\n",
    "deportista_error.show(4)"
   ],
   "outputs": [
    {
     "output_type": "stream",
     "name": "stdout",
     "text": [
      "+-------------+--------------------+------+----+------+----+---------+\n",
      "|deportista_id|              nombre|genero|edad|altura|peso|equipo_id|\n",
      "+-------------+--------------------+------+----+------+----+---------+\n",
      "|            1|           A Dijiang|     1|  24|   180|80.0|      199|\n",
      "|            2|            A Lamusi|     1|  23|   170|60.0|      199|\n",
      "|            3| Gunnar Nielsen Aaby|     1|  24|  null|null|      273|\n",
      "|            4|Edgar Lindenau Aabye|     1|  34|  null|null|      278|\n",
      "+-------------+--------------------+------+----+------+----+---------+\n",
      "only showing top 4 rows\n",
      "\n"
     ]
    }
   ],
   "metadata": {}
  },
  {
   "cell_type": "code",
   "execution_count": 23,
   "source": [
    "evento = sql_context.read.csv(\"files/evento.csv\", inferSchema=True, header=True)\n",
    "evento.show(4)"
   ],
   "outputs": [
    {
     "output_type": "stream",
     "name": "stdout",
     "text": [
      "+---------+--------------------+----------+\n",
      "|evento_id|              evento|deporte_id|\n",
      "+---------+--------------------+----------+\n",
      "|        1|Basketball Men's ...|         1|\n",
      "|        2|Judo Men's Extra-...|         2|\n",
      "|        3|Football Men's Fo...|         3|\n",
      "|        4|Tug-Of-War Men's ...|         4|\n",
      "+---------+--------------------+----------+\n",
      "only showing top 4 rows\n",
      "\n"
     ]
    }
   ],
   "metadata": {}
  },
  {
   "cell_type": "code",
   "execution_count": 27,
   "source": [
    "juegos = sql_context.read.csv(\"files/juegos.csv\", header=True).withColumnRenamed(\"_c0\", \"juego_id\")\n",
    "juegos.show(4)"
   ],
   "outputs": [
    {
     "output_type": "stream",
     "name": "stdout",
     "text": [
      "+--------+------------+-----+---------+---------+\n",
      "|juego_id|nombre_juego|annio|temporada|   ciudad|\n",
      "+--------+------------+-----+---------+---------+\n",
      "|       1| 1896 Verano| 1896|   Verano|   Athina|\n",
      "|       2| 1900 Verano| 1900|   Verano|    Paris|\n",
      "|       3| 1904 Verano| 1904|   Verano|St. Louis|\n",
      "|       4| 1906 Verano| 1906|   Verano|   Athina|\n",
      "+--------+------------+-----+---------+---------+\n",
      "only showing top 4 rows\n",
      "\n"
     ]
    },
    {
     "output_type": "stream",
     "name": "stderr",
     "text": [
      "21/08/09 12:19:40 WARN CSVHeaderChecker: CSV header does not conform to the schema.\n",
      " Header: , nombre_juego, annio, temporada, ciudad\n",
      " Schema: _c0, nombre_juego, annio, temporada, ciudad\n",
      "Expected: _c0 but found: \n",
      "CSV file: file:///home/will/Projects/spark/files/juegos.csv\n"
     ]
    }
   ],
   "metadata": {}
  },
  {
   "cell_type": "code",
   "execution_count": 29,
   "source": [
    "paises = sql_context.read.csv(\"files/paises.csv\", inferSchema=True, header=True)\n",
    "paises.show(4)"
   ],
   "outputs": [
    {
     "output_type": "stream",
     "name": "stdout",
     "text": [
      "+---+--------------------+-----+\n",
      "| id|              equipo|sigla|\n",
      "+---+--------------------+-----+\n",
      "|  1|         30. Februar|  AUT|\n",
      "|  2|A North American ...|  MEX|\n",
      "|  3|           Acipactli|  MEX|\n",
      "|  4|             Acturus|  ARG|\n",
      "+---+--------------------+-----+\n",
      "only showing top 4 rows\n",
      "\n"
     ]
    }
   ],
   "metadata": {}
  },
  {
   "cell_type": "code",
   "execution_count": 30,
   "source": [
    "resultados = sql_context.read.csv(\"files/resultados.csv\", inferSchema=True, header=True)\n",
    "resultados.show(4)"
   ],
   "outputs": [
    {
     "output_type": "stream",
     "name": "stdout",
     "text": [
      "+------------+-------+-------------+--------+---------+\n",
      "|resultado_id|medalla|deportista_id|juego_id|evento_id|\n",
      "+------------+-------+-------------+--------+---------+\n",
      "|           1|     NA|            1|      39|        1|\n",
      "|           2|     NA|            2|      49|        2|\n",
      "|           3|     NA|            3|       7|        3|\n",
      "|           4|   Gold|            4|       2|        4|\n",
      "+------------+-------+-------------+--------+---------+\n",
      "only showing top 4 rows\n",
      "\n"
     ]
    }
   ],
   "metadata": {}
  },
  {
   "cell_type": "code",
   "execution_count": 34,
   "source": [
    "deportista = deportista.withColumnRenamed(\"genero\", \"sexo\").drop(\"altura\")\n",
    "deportista.printSchema()"
   ],
   "outputs": [
    {
     "output_type": "stream",
     "name": "stdout",
     "text": [
      "root\n",
      " |-- deportista_id: string (nullable = true)\n",
      " |-- nombre: string (nullable = true)\n",
      " |-- sexo: string (nullable = true)\n",
      " |-- edad: string (nullable = true)\n",
      " |-- peso: string (nullable = true)\n",
      " |-- equipo_id: string (nullable = true)\n",
      "\n"
     ]
    }
   ],
   "metadata": {}
  },
  {
   "cell_type": "code",
   "execution_count": 39,
   "source": [
    "deportista.select(\"deportista_id\", \"nombre\", col(\"edad\").alias(\"edadAlJugar\"), \"equipo_id\") \\\n",
    "  .filter(\n",
    "    (deportista.edad != 0)\n",
    "  ) \\\n",
    "  .sort(\"edadAlJugar\") \\\n",
    "  .show(5)"
   ],
   "outputs": [
    {
     "output_type": "stream",
     "name": "stdout",
     "text": [
      "+-------------+--------------------+-----------+---------+\n",
      "|deportista_id|              nombre|edadAlJugar|equipo_id|\n",
      "+-------------+--------------------+-----------+---------+\n",
      "|        22411|Magdalena Cecilia...|         11|      413|\n",
      "|        40129|    Luigina Giavotti|         11|      507|\n",
      "|        37333|Carlos Bienvenido...|         11|      982|\n",
      "|        47618|Sonja Henie Toppi...|         11|      742|\n",
      "|        51268|      Beatrice Hutiu|         11|      861|\n",
      "+-------------+--------------------+-----------+---------+\n",
      "only showing top 5 rows\n",
      "\n"
     ]
    }
   ],
   "metadata": {}
  },
  {
   "cell_type": "code",
   "execution_count": 5,
   "source": [
    "spark.stop()"
   ],
   "outputs": [],
   "metadata": {}
  }
 ],
 "metadata": {
  "orig_nbformat": 4,
  "language_info": {
   "name": "python",
   "version": "3.8.10",
   "mimetype": "text/x-python",
   "codemirror_mode": {
    "name": "ipython",
    "version": 3
   },
   "pygments_lexer": "ipython3",
   "nbconvert_exporter": "python",
   "file_extension": ".py"
  },
  "kernelspec": {
   "name": "python3",
   "display_name": "Python 3.8.10 64-bit"
  },
  "interpreter": {
   "hash": "916dbcbb3f70747c44a77c7bcd40155683ae19c65e1c03b4aa3499c5328201f1"
  }
 },
 "nbformat": 4,
 "nbformat_minor": 2
}