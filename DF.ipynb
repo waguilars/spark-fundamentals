{
 "cells": [
  {
   "cell_type": "markdown",
   "source": [
    "## Creacion de DF"
   ],
   "metadata": {}
  },
  {
   "cell_type": "markdown",
   "source": [
    "Importamos todas las librerias que vamos a utilizar"
   ],
   "metadata": {}
  },
  {
   "cell_type": "code",
   "execution_count": 33,
   "source": [
    "from pyspark import SparkContext\n",
    "from pyspark.sql import SparkSession, SQLContext\n",
    "\n",
    "from pyspark.sql.types import StructField, StructType, StringType, IntegerType, StringType, FloatType, Row\n",
    "from pyspark.sql.functions import sum, avg"
   ],
   "outputs": [],
   "metadata": {}
  },
  {
   "cell_type": "markdown",
   "source": [
    "El SQLContext nos permite acceder a las diferentes funciones del sql context y poder diferenciarlo en caso de usar diferentes versiones de Spark."
   ],
   "metadata": {}
  },
  {
   "cell_type": "code",
   "execution_count": 3,
   "source": [
    "spark = SparkContext(master=\"local\", appName=\"DataFrames\")\n",
    "sql_context = SQLContext(spark)"
   ],
   "outputs": [
    {
     "output_type": "stream",
     "name": "stderr",
     "text": [
      "21/08/09 14:56:50 WARN Utils: Your hostname, ubuntu resolves to a loopback address: 127.0.1.1; using 192.168.100.109 instead (on interface enp0s31f6)\n",
      "21/08/09 14:56:50 WARN Utils: Set SPARK_LOCAL_IP if you need to bind to another address\n",
      "21/08/09 14:56:50 WARN NativeCodeLoader: Unable to load native-hadoop library for your platform... using builtin-java classes where applicable\n",
      "Using Spark's default log4j profile: org/apache/spark/log4j-defaults.properties\n",
      "Setting default log level to \"WARN\".\n",
      "To adjust logging level use sc.setLogLevel(newLevel). For SparkR, use setLogLevel(newLevel).\n"
     ]
    }
   ],
   "metadata": {}
  },
  {
   "cell_type": "markdown",
   "source": [
    "Mostramos la cabecera del archivo juegos.csv"
   ],
   "metadata": {}
  },
  {
   "cell_type": "code",
   "execution_count": 13,
   "source": [
    "!head -n 4 files/juegos.csv"
   ],
   "outputs": [
    {
     "output_type": "stream",
     "name": "stdout",
     "text": [
      ",nombre_juego,annio,temporada,ciudad\n",
      "1,1896 Verano,1896,Verano,Athina\n",
      "2,1900 Verano,1900,Verano,Paris\n",
      "3,1904 Verano,1904,Verano,St. Louis\n"
     ]
    }
   ],
   "metadata": {}
  },
  {
   "cell_type": "markdown",
   "source": [
    "## Usando un Schema"
   ],
   "metadata": {}
  },
  {
   "cell_type": "markdown",
   "source": [
    "Creamos el esquema para nuestro DF."
   ],
   "metadata": {}
  },
  {
   "cell_type": "code",
   "execution_count": 4,
   "source": [
    "juego_schema = StructType([\n",
    "  StructField('juego_id', IntegerType(), False),\n",
    "  StructField('anio', StringType(), False),\n",
    "  StructField('temporada', StringType(), False),\n",
    "  StructField('ciudad', StringType(), False),\n",
    "])\n",
    "\n",
    "juego_df = sql_context.read.schema(juego_schema) \\\n",
    "    .option(\"header\", True) \\\n",
    "    .csv(\"files/juegos.csv\")"
   ],
   "outputs": [],
   "metadata": {}
  },
  {
   "cell_type": "markdown",
   "source": [
    "El DF no se crea hasta que ejecutemos una operacion."
   ],
   "metadata": {}
  },
  {
   "cell_type": "code",
   "execution_count": 17,
   "source": [
    "juego_df.show(4)"
   ],
   "outputs": [
    {
     "output_type": "stream",
     "name": "stdout",
     "text": [
      "+--------+-----------+---------+------+\n",
      "|juego_id|       anio|temporada|ciudad|\n",
      "+--------+-----------+---------+------+\n",
      "|       1|1896 Verano|     1896|Verano|\n",
      "|       2|1900 Verano|     1900|Verano|\n",
      "|       3|1904 Verano|     1904|Verano|\n",
      "|       4|1906 Verano|     1906|Verano|\n",
      "+--------+-----------+---------+------+\n",
      "only showing top 4 rows\n",
      "\n"
     ]
    },
    {
     "output_type": "stream",
     "name": "stderr",
     "text": [
      "21/08/09 11:19:36 WARN CSVHeaderChecker: Number of column in CSV header is not equal to number of fields in the schema:\n",
      " Header length: 5, schema size: 4\n",
      "CSV file: file:///home/will/Projects/spark/files/juegos.csv\n"
     ]
    }
   ],
   "metadata": {}
  },
  {
   "cell_type": "code",
   "execution_count": 18,
   "source": [
    "spark"
   ],
   "outputs": [
    {
     "output_type": "execute_result",
     "data": {
      "text/plain": [
       "<SparkContext master=local appName=DataFrames>"
      ],
      "text/html": [
       "\n",
       "        <div>\n",
       "            <p><b>SparkContext</b></p>\n",
       "\n",
       "            <p><a href=\"http://192.168.100.109:4040\">Spark UI</a></p>\n",
       "\n",
       "            <dl>\n",
       "              <dt>Version</dt>\n",
       "                <dd><code>v3.1.2</code></dd>\n",
       "              <dt>Master</dt>\n",
       "                <dd><code>local</code></dd>\n",
       "              <dt>AppName</dt>\n",
       "                <dd><code>DataFrames</code></dd>\n",
       "            </dl>\n",
       "        </div>\n",
       "        "
      ]
     },
     "metadata": {},
     "execution_count": 18
    }
   ],
   "metadata": {}
  },
  {
   "cell_type": "markdown",
   "source": [
    "## Usando un RDD\n",
    "Hay que tomar en cuenta:\n",
    "- Eliminar el encabezado\n",
    "- Castear valores a sus respectivos tipos de datos\n",
    "- Crear el esquema a usar"
   ],
   "metadata": {}
  },
  {
   "cell_type": "markdown",
   "source": [
    "### Funcion para eliminar el header"
   ],
   "metadata": {}
  },
  {
   "cell_type": "code",
   "execution_count": 5,
   "source": [
    "def dropFirstRow(index,iterator):\n",
    "     return iter(list(iterator)[1:])"
   ],
   "outputs": [],
   "metadata": {}
  },
  {
   "cell_type": "markdown",
   "source": [
    "Primero cargamos los rdds de deportista"
   ],
   "metadata": {}
  },
  {
   "cell_type": "code",
   "execution_count": 6,
   "source": [
    "deportista = spark.textFile(\"files/deportista.csv\").map(lambda l: l.split(','))\n",
    "deportista2 = spark.textFile(\"files/deportista2.csv\").map(lambda l: l.split(','))\n",
    "deportista = deportista.union(deportista2)\n",
    "deportista.take(4)"
   ],
   "outputs": [
    {
     "output_type": "stream",
     "name": "stderr",
     "text": []
    },
    {
     "output_type": "execute_result",
     "data": {
      "text/plain": [
       "[['deportista_id', 'nombre', 'genero', 'edad', 'altura', 'peso', 'equipo_id'],\n",
       " ['1', 'A Dijiang', '1', '24', '180', '80', '199'],\n",
       " ['2', 'A Lamusi', '1', '23', '170', '60', '199'],\n",
       " ['3', 'Gunnar Nielsen Aaby', '1', '24', '0', '0', '273']]"
      ]
     },
     "metadata": {},
     "execution_count": 6
    }
   ],
   "metadata": {}
  },
  {
   "cell_type": "markdown",
   "source": [
    "Despues procedemos a eliminar el encabezado"
   ],
   "metadata": {}
  },
  {
   "cell_type": "code",
   "execution_count": 7,
   "source": [
    "deportista = deportista.mapPartitionsWithIndex( dropFirstRow ) # mapPartitionsWithIndex permite particionar un rdd\n",
    "deportista.take(4)"
   ],
   "outputs": [
    {
     "output_type": "execute_result",
     "data": {
      "text/plain": [
       "[['1', 'A Dijiang', '1', '24', '180', '80', '199'],\n",
       " ['2', 'A Lamusi', '1', '23', '170', '60', '199'],\n",
       " ['3', 'Gunnar Nielsen Aaby', '1', '24', '0', '0', '273'],\n",
       " ['4', 'Edgar Lindenau Aabye', '1', '34', '0', '0', '278']]"
      ]
     },
     "metadata": {},
     "execution_count": 7
    }
   ],
   "metadata": {}
  },
  {
   "cell_type": "markdown",
   "source": [
    "Ahora tranformamos cada valor a su respectivo tipo de dato."
   ],
   "metadata": {}
  },
  {
   "cell_type": "code",
   "execution_count": 8,
   "source": [
    "deportista = deportista.map(lambda l: (\n",
    "   int(l[0]), l[1], int(l[2]), int(l[3]), int(l[4]), float(l[5]), int(l[6])\n",
    "))\n",
    "deportista.take(4)"
   ],
   "outputs": [
    {
     "output_type": "execute_result",
     "data": {
      "text/plain": [
       "[(1, 'A Dijiang', 1, 24, 180, 80.0, 199),\n",
       " (2, 'A Lamusi', 1, 23, 170, 60.0, 199),\n",
       " (3, 'Gunnar Nielsen Aaby', 1, 24, 0, 0.0, 273),\n",
       " (4, 'Edgar Lindenau Aabye', 1, 34, 0, 0.0, 278)]"
      ]
     },
     "metadata": {},
     "execution_count": 8
    }
   ],
   "metadata": {}
  },
  {
   "cell_type": "markdown",
   "source": [
    "Creamos el Schema respectivo."
   ],
   "metadata": {}
  },
  {
   "cell_type": "code",
   "execution_count": 9,
   "source": [
    "deportista_schema = StructType([\n",
    "  StructField('deportista_id', IntegerType(), False),\n",
    "  StructField('nombre', StringType(), False),\n",
    "  StructField('genero', IntegerType(), False),\n",
    "  StructField('edad', IntegerType(), True),\n",
    "  StructField('altura', IntegerType(), True),\n",
    "  StructField('peso', FloatType(), True),\n",
    "  StructField('equipo_id', IntegerType(), True)\n",
    "])\n",
    "\n",
    "deportista = sql_context.createDataFrame(deportista, deportista_schema)\n",
    "deportista.show(4)"
   ],
   "outputs": [
    {
     "output_type": "stream",
     "name": "stdout",
     "text": [
      "+-------------+--------------------+------+----+------+----+---------+\n",
      "|deportista_id|              nombre|genero|edad|altura|peso|equipo_id|\n",
      "+-------------+--------------------+------+----+------+----+---------+\n",
      "|            1|           A Dijiang|     1|  24|   180|80.0|      199|\n",
      "|            2|            A Lamusi|     1|  23|   170|60.0|      199|\n",
      "|            3| Gunnar Nielsen Aaby|     1|  24|     0| 0.0|      273|\n",
      "|            4|Edgar Lindenau Aabye|     1|  34|     0| 0.0|      278|\n",
      "+-------------+--------------------+------+----+------+----+---------+\n",
      "only showing top 4 rows\n",
      "\n"
     ]
    }
   ],
   "metadata": {}
  },
  {
   "cell_type": "markdown",
   "source": [
    "## Inferir esquema"
   ],
   "metadata": {}
  },
  {
   "cell_type": "code",
   "execution_count": 13,
   "source": [
    "resultados = sql_context.read.csv(\"files/resultados.csv\", header=True)\n",
    "paises = sql_context.read.csv(\"files/paises.csv\", header=True)\n",
    "eventos = sql_context.read.csv(\"files/evento.csv\", header=True)\n",
    "deporte = sql_context.read.csv(\"files/deporte.csv\", header=True)\n"
   ],
   "outputs": [],
   "metadata": {}
  },
  {
   "cell_type": "markdown",
   "source": [
    "## Funciones de Agrupacion"
   ],
   "metadata": {}
  },
  {
   "cell_type": "code",
   "execution_count": 21,
   "source": [
    "medallistaXAnio = deportista \\\n",
    "    .join(\n",
    "        resultados, \n",
    "        deportista.deportista_id == resultados.deportista_id, \n",
    "        \"left\"\n",
    "    ) \\\n",
    "    .join(\n",
    "        juego_df, \n",
    "        juego_df.juego_id == resultados.juego_id, \n",
    "        \"left\"\n",
    "    ) \\\n",
    "    .join(\n",
    "        paises, \n",
    "        deportista.equipo_id == paises.id, \n",
    "        \"left\"\n",
    "    ) \\\n",
    "    .join(\n",
    "        eventos, \n",
    "        eventos.evento_id == resultados.evento_id, \n",
    "        \"left\"\n",
    "    ) \\\n",
    "    .join(\n",
    "        deporte, \n",
    "        eventos.deporte_id == deporte.deporte_id, \n",
    "        \"left\"\n",
    "    ) \\\n",
    "    .select(\n",
    "        \"sigla\",\n",
    "        \"anio\",\n",
    "        \"medalla\",\n",
    "        eventos.evento.alias(\"Nombre subdisciplina\"),\n",
    "        deporte.deporte.alias(\"Nombre disciplina\"),\n",
    "        deportista.nombre\n",
    "    )\n",
    "\n",
    "medallistaXAnio.show() "
   ],
   "outputs": [
    {
     "output_type": "stream",
     "name": "stderr",
     "text": [
      "21/08/09 15:11:03 WARN CSVHeaderChecker: CSV header does not conform to the schema.\n",
      " Header: , nombre_juego\n",
      " Schema: juego_id, anio\n",
      "Expected: juego_id but found: \n",
      "CSV file: file:///home/will/Projects/spark/files/juegos.csv\n"
     ]
    },
    {
     "output_type": "stream",
     "name": "stdout",
     "text": [
      "+-----+-------------+-------+--------------------+--------------------+--------------------+\n",
      "|sigla|         anio|medalla|Nombre subdisciplina|   Nombre disciplina|              nombre|\n",
      "+-----+-------------+-------+--------------------+--------------------+--------------------+\n",
      "|  CHN|  1992 Verano|     NA|Basketball Men's ...|          Basketball|           A Dijiang|\n",
      "|  CHN|  2012 Verano|     NA|Judo Men's Extra-...|                Judo|            A Lamusi|\n",
      "|  DEN|  1920 Verano|     NA|Football Men's Fo...|            Football| Gunnar Nielsen Aaby|\n",
      "|  SWE|  1900 Verano|   Gold|Tug-Of-War Men's ...|          Tug-Of-War|Edgar Lindenau Aabye|\n",
      "|  NED|1994 Invierno|     NA|Speed Skating Wom...|       Speed Skating|Christine Jacoba ...|\n",
      "|  NED|1994 Invierno|     NA|Speed Skating Wom...|       Speed Skating|Christine Jacoba ...|\n",
      "|  NED|1992 Invierno|     NA|Speed Skating Wom...|       Speed Skating|Christine Jacoba ...|\n",
      "|  NED|1992 Invierno|     NA|Speed Skating Wom...|       Speed Skating|Christine Jacoba ...|\n",
      "|  NED|1988 Invierno|     NA|Speed Skating Wom...|       Speed Skating|Christine Jacoba ...|\n",
      "|  NED|1988 Invierno|     NA|Speed Skating Wom...|       Speed Skating|Christine Jacoba ...|\n",
      "|  USA|1994 Invierno|     NA|Cross Country Ski...|Cross Country Skiing|     Per Knut Aaland|\n",
      "|  USA|1994 Invierno|     NA|Cross Country Ski...|Cross Country Skiing|     Per Knut Aaland|\n",
      "|  USA|1994 Invierno|     NA|Cross Country Ski...|Cross Country Skiing|     Per Knut Aaland|\n",
      "|  USA|1994 Invierno|     NA|Cross Country Ski...|Cross Country Skiing|     Per Knut Aaland|\n",
      "|  USA|1992 Invierno|     NA|Cross Country Ski...|Cross Country Skiing|     Per Knut Aaland|\n",
      "|  USA|1992 Invierno|     NA|Cross Country Ski...|Cross Country Skiing|     Per Knut Aaland|\n",
      "|  USA|1992 Invierno|     NA|Cross Country Ski...|Cross Country Skiing|     Per Knut Aaland|\n",
      "|  USA|1992 Invierno|     NA|Cross Country Ski...|Cross Country Skiing|     Per Knut Aaland|\n",
      "|  USA|1994 Invierno|     NA|Cross Country Ski...|Cross Country Skiing|        John Aalberg|\n",
      "|  USA|1994 Invierno|     NA|Cross Country Ski...|Cross Country Skiing|        John Aalberg|\n",
      "+-----+-------------+-------+--------------------+--------------------+--------------------+\n",
      "only showing top 20 rows\n",
      "\n"
     ]
    }
   ],
   "metadata": {}
  },
  {
   "cell_type": "markdown",
   "source": [
    "De esta manera podemos realizar operaciones de agrupación pero no es la mas recomendable."
   ],
   "metadata": {}
  },
  {
   "cell_type": "code",
   "execution_count": 30,
   "source": [
    "medallistaXAnio2 = medallistaXAnio.filter(medallistaXAnio.medalla != 'NA') \\\n",
    "    .sort('anio') \\\n",
    "    .groupBy(\"sigla\", \"anio\", \"Nombre subdisciplina\") \\\n",
    "    .count()"
   ],
   "outputs": [],
   "metadata": {}
  },
  {
   "cell_type": "code",
   "execution_count": null,
   "source": [
    "medallistaXAnio2.printSchema()"
   ],
   "outputs": [
    {
     "output_type": "stream",
     "name": "stdout",
     "text": [
      "root\n",
      " |-- sigla: string (nullable = true)\n",
      " |-- anio: string (nullable = true)\n",
      " |-- Nombre subdisciplina: string (nullable = true)\n",
      " |-- count: long (nullable = false)\n",
      "\n"
     ]
    }
   ],
   "metadata": {}
  },
  {
   "cell_type": "markdown",
   "source": [
    "Con la funcion agg podemos realizar multiples funciones de agregacion."
   ],
   "metadata": {}
  },
  {
   "cell_type": "code",
   "execution_count": 46,
   "source": [
    "medallistaXAnio2.groupBy(\"sigla\", \"anio\") \\\n",
    "  .agg(sum(\"count\").alias(\"total de medallas\"), avg(\"count\").alias(\"Medallas promedio\")) \\\n",
    "  .show()"
   ],
   "outputs": [
    {
     "output_type": "stream",
     "name": "stderr",
     "text": [
      "21/08/09 15:35:21 WARN CSVHeaderChecker: CSV header does not conform to the schema.\n",
      " Header: , nombre_juego\n",
      " Schema: juego_id, anio\n",
      "Expected: juego_id but found: \n",
      "CSV file: file:///home/will/Projects/spark/files/juegos.csv\n"
     ]
    },
    {
     "output_type": "stream",
     "name": "stdout",
     "text": [
      "+-----+-------------+-----------------+------------------+\n",
      "|sigla|         anio|total de medallas| Medallas promedio|\n",
      "+-----+-------------+-----------------+------------------+\n",
      "|  NED|1992 Invierno|                4|1.3333333333333333|\n",
      "|  BEL|  2000 Verano|                7|               1.4|\n",
      "|  MAS|  2012 Verano|                2|               1.0|\n",
      "|  MGL|  2008 Verano|                5|              1.25|\n",
      "|  SWE|  1976 Verano|               10|               2.0|\n",
      "|  SUI|2014 Invierno|               29|3.2222222222222223|\n",
      "|  ETH|  2004 Verano|                7|              1.75|\n",
      "|  AUT|  1928 Verano|                5|              1.25|\n",
      "|  SYR|  1984 Verano|                1|               1.0|\n",
      "|  ITA|  1996 Verano|               69| 2.225806451612903|\n",
      "|  THA|  2008 Verano|                4|               1.0|\n",
      "|  URS|1984 Invierno|               56|               2.8|\n",
      "|  DEN|  1896 Verano|                6|               1.0|\n",
      "|  GRN|  2016 Verano|                1|               1.0|\n",
      "|  DEN|  1956 Verano|                6|               1.5|\n",
      "|  ARG|  2004 Verano|               49| 8.166666666666666|\n",
      "|  CHI|  1988 Verano|                1|               1.0|\n",
      "|  GBR|  1980 Verano|               49|              2.45|\n",
      "|  ITA|  1972 Verano|               25|            1.5625|\n",
      "|  UGA|  1980 Verano|                1|               1.0|\n",
      "+-----+-------------+-----------------+------------------+\n",
      "only showing top 20 rows\n",
      "\n"
     ]
    },
    {
     "output_type": "stream",
     "name": "stderr",
     "text": []
    }
   ],
   "metadata": {}
  },
  {
   "cell_type": "markdown",
   "source": [
    "## Uso de SQL\n",
    "\n",
    "Podemos usar comandos de sql registrando una DF como una tabla temporal de la siguiente manera"
   ],
   "metadata": {}
  },
  {
   "cell_type": "code",
   "execution_count": 42,
   "source": [
    "resultados.registerTempTable(\"resultados\")\n",
    "deportista.registerTempTable(\"deportistas\")\n",
    "paises.registerTempTable(\"paises\")"
   ],
   "outputs": [],
   "metadata": {}
  },
  {
   "cell_type": "markdown",
   "source": [
    "Ahora podemos usar el SQLContext para ejecutar comandos de SQL"
   ],
   "metadata": {}
  },
  {
   "cell_type": "code",
   "execution_count": 37,
   "source": [
    "sql_context.sql(\"SELECT * FROM resultados\").show(5)"
   ],
   "outputs": [
    {
     "output_type": "stream",
     "name": "stdout",
     "text": [
      "+------------+-------+-------------+--------+---------+\n",
      "|resultado_id|medalla|deportista_id|juego_id|evento_id|\n",
      "+------------+-------+-------------+--------+---------+\n",
      "|           1|     NA|            1|      39|        1|\n",
      "|           2|     NA|            2|      49|        2|\n",
      "|           3|     NA|            3|       7|        3|\n",
      "|           4|   Gold|            4|       2|        4|\n",
      "|           5|     NA|            5|      36|        5|\n",
      "+------------+-------+-------------+--------+---------+\n",
      "only showing top 5 rows\n",
      "\n"
     ]
    }
   ],
   "metadata": {}
  },
  {
   "cell_type": "markdown",
   "source": [
    "Podemos replicar el ejercicio anterior pero ahora con SQL."
   ],
   "metadata": {}
  },
  {
   "cell_type": "code",
   "execution_count": 47,
   "source": [
    "sql_context.sql(\"\"\"\n",
    "  SELECT medalla, equipo, sigla FROM resultados r\n",
    "  JOIN deportistas d ON d.deportista_id = r.deportista_id\n",
    "  JOIN paises p ON p.id = d.equipo_id\n",
    "  WHERE medalla <> \"NA\"\n",
    "  ORDER BY sigla DESC\n",
    "              \"\"\").show()"
   ],
   "outputs": [
    {
     "output_type": "stream",
     "name": "stderr",
     "text": []
    },
    {
     "output_type": "stream",
     "name": "stdout",
     "text": [
      "+-------+--------+-----+\n",
      "|medalla|  equipo|sigla|\n",
      "+-------+--------+-----+\n",
      "|   Gold|Zimbabwe|  ZIM|\n",
      "|   Gold|Zimbabwe|  ZIM|\n",
      "| Silver|Zimbabwe|  ZIM|\n",
      "|   Gold|Zimbabwe|  ZIM|\n",
      "|   Gold|Zimbabwe|  ZIM|\n",
      "| Silver|Zimbabwe|  ZIM|\n",
      "| Bronze|Zimbabwe|  ZIM|\n",
      "|   Gold|Zimbabwe|  ZIM|\n",
      "|   Gold|Zimbabwe|  ZIM|\n",
      "|   Gold|Zimbabwe|  ZIM|\n",
      "|   Gold|Zimbabwe|  ZIM|\n",
      "|   Gold|Zimbabwe|  ZIM|\n",
      "|   Gold|Zimbabwe|  ZIM|\n",
      "|   Gold|Zimbabwe|  ZIM|\n",
      "|   Gold|Zimbabwe|  ZIM|\n",
      "|   Gold|Zimbabwe|  ZIM|\n",
      "| Silver|Zimbabwe|  ZIM|\n",
      "| Silver|Zimbabwe|  ZIM|\n",
      "|   Gold|Zimbabwe|  ZIM|\n",
      "|   Gold|Zimbabwe|  ZIM|\n",
      "+-------+--------+-----+\n",
      "only showing top 20 rows\n",
      "\n"
     ]
    },
    {
     "output_type": "stream",
     "name": "stderr",
     "text": []
    }
   ],
   "metadata": {}
  },
  {
   "cell_type": "code",
   "execution_count": 44,
   "source": [
    "spark"
   ],
   "outputs": [
    {
     "output_type": "execute_result",
     "data": {
      "text/plain": [
       "<SparkContext master=local appName=DataFrames>"
      ],
      "text/html": [
       "\n",
       "        <div>\n",
       "            <p><b>SparkContext</b></p>\n",
       "\n",
       "            <p><a href=\"http://192.168.100.109:4040\">Spark UI</a></p>\n",
       "\n",
       "            <dl>\n",
       "              <dt>Version</dt>\n",
       "                <dd><code>v3.1.2</code></dd>\n",
       "              <dt>Master</dt>\n",
       "                <dd><code>local</code></dd>\n",
       "              <dt>AppName</dt>\n",
       "                <dd><code>DataFrames</code></dd>\n",
       "            </dl>\n",
       "        </div>\n",
       "        "
      ]
     },
     "metadata": {},
     "execution_count": 44
    }
   ],
   "metadata": {}
  },
  {
   "cell_type": "code",
   "execution_count": 10,
   "source": [
    "# spark.stop()\n"
   ],
   "outputs": [],
   "metadata": {}
  }
 ],
 "metadata": {
  "orig_nbformat": 4,
  "language_info": {
   "name": "python",
   "version": "3.8.10",
   "mimetype": "text/x-python",
   "codemirror_mode": {
    "name": "ipython",
    "version": 3
   },
   "pygments_lexer": "ipython3",
   "nbconvert_exporter": "python",
   "file_extension": ".py"
  },
  "kernelspec": {
   "name": "python3",
   "display_name": "Python 3.8.10 64-bit"
  },
  "interpreter": {
   "hash": "916dbcbb3f70747c44a77c7bcd40155683ae19c65e1c03b4aa3499c5328201f1"
  }
 },
 "nbformat": 4,
 "nbformat_minor": 2
}